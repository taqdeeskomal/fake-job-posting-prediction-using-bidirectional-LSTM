{
  "cells": [
    {
      "cell_type": "markdown",
      "source": [
        "Libraries require and Model"
      ],
      "metadata": {
        "id": "rO6LiNbBo-tj"
      },
      "id": "rO6LiNbBo-tj"
    },
    {
      "cell_type": "code",
      "execution_count": 1,
      "id": "1f31d5a2",
      "metadata": {
        "_cell_guid": "b1076dfc-b9ad-4769-8c92-a6c4dae69d19",
        "_uuid": "8f2839f25d086af736a60e9eeb907d3b93b6e0e5",
        "execution": {
          "iopub.execute_input": "2021-10-09T06:15:23.022800Z",
          "iopub.status.busy": "2021-10-09T06:15:23.022073Z",
          "iopub.status.idle": "2021-10-09T06:15:23.034274Z",
          "shell.execute_reply": "2021-10-09T06:15:23.034929Z",
          "shell.execute_reply.started": "2021-10-09T05:38:59.511497Z"
        },
        "papermill": {
          "duration": 0.055248,
          "end_time": "2021-10-09T06:15:23.035262",
          "exception": false,
          "start_time": "2021-10-09T06:15:22.980014",
          "status": "completed"
        },
        "tags": [],
        "id": "1f31d5a2"
      },
      "outputs": [],
      "source": [
        "\n",
        "import numpy as np \n",
        "import pandas as pd\n",
        "\n",
        "\n",
        "\n"
      ]
    },
    {
      "cell_type": "code",
      "execution_count": 16,
      "id": "6caddc11",
      "metadata": {
        "execution": {
          "iopub.execute_input": "2021-10-09T06:15:30.566516Z",
          "iopub.status.busy": "2021-10-09T06:15:30.565831Z",
          "iopub.status.idle": "2021-10-09T06:15:30.569264Z",
          "shell.execute_reply": "2021-10-09T06:15:30.568709Z",
          "shell.execute_reply.started": "2021-10-09T05:39:05.877603Z"
        },
        "papermill": {
          "duration": 0.041074,
          "end_time": "2021-10-09T06:15:30.569397",
          "exception": false,
          "start_time": "2021-10-09T06:15:30.528323",
          "status": "completed"
        },
        "tags": [],
        "id": "6caddc11"
      },
      "outputs": [],
      "source": [
        "from tensorflow.keras.layers import Embedding\n",
        "from tensorflow.keras.preprocessing.sequence import pad_sequences\n",
        "from tensorflow.keras.models import Sequential\n",
        "from tensorflow.keras.preprocessing.text import one_hot\n",
        "from tensorflow.keras.layers import LSTM\n",
        "from tensorflow.keras.layers import Dense\n",
        "from tensorflow.keras.layers import Bidirectional\n",
        "from tensorflow.keras.layers import Dropout"
      ]
    },
    {
      "cell_type": "code",
      "execution_count": 6,
      "id": "7a520561",
      "metadata": {
        "execution": {
          "iopub.execute_input": "2021-10-09T06:15:23.097993Z",
          "iopub.status.busy": "2021-10-09T06:15:23.097307Z",
          "iopub.status.idle": "2021-10-09T06:15:24.479095Z",
          "shell.execute_reply": "2021-10-09T06:15:24.478534Z",
          "shell.execute_reply.started": "2021-10-09T05:38:59.545584Z"
        },
        "papermill": {
          "duration": 1.414972,
          "end_time": "2021-10-09T06:15:24.479252",
          "exception": false,
          "start_time": "2021-10-09T06:15:23.064280",
          "status": "completed"
        },
        "tags": [],
        "id": "7a520561"
      },
      "outputs": [],
      "source": [
        "df1 = pd.read_csv('/content/drive/MyDrive/fake_job_postings.csv')"
      ]
    },
    {
      "cell_type": "code",
      "source": [
        "from google.colab import drive\n",
        "drive.mount('/content/drive')"
      ],
      "metadata": {
        "colab": {
          "base_uri": "https://localhost:8080/"
        },
        "id": "8VUXIn--VHQb",
        "outputId": "f3c5d4ad-5513-4965-e893-f3bd8bb3bd7c"
      },
      "id": "8VUXIn--VHQb",
      "execution_count": 3,
      "outputs": [
        {
          "output_type": "stream",
          "name": "stdout",
          "text": [
            "Mounted at /content/drive\n"
          ]
        }
      ]
    },
    {
      "cell_type": "markdown",
      "source": [
        "# New Section"
      ],
      "metadata": {
        "id": "573g9vUpVVx-"
      },
      "id": "573g9vUpVVx-"
    },
    {
      "cell_type": "code",
      "execution_count": 7,
      "id": "12cc6d44",
      "metadata": {
        "execution": {
          "iopub.execute_input": "2021-10-09T06:15:24.543248Z",
          "iopub.status.busy": "2021-10-09T06:15:24.542291Z",
          "iopub.status.idle": "2021-10-09T06:15:24.565118Z",
          "shell.execute_reply": "2021-10-09T06:15:24.565634Z",
          "shell.execute_reply.started": "2021-10-09T05:39:00.777490Z"
        },
        "papermill": {
          "duration": 0.058848,
          "end_time": "2021-10-09T06:15:24.565801",
          "exception": false,
          "start_time": "2021-10-09T06:15:24.506953",
          "status": "completed"
        },
        "tags": [],
        "id": "12cc6d44",
        "colab": {
          "base_uri": "https://localhost:8080/",
          "height": 600
        },
        "outputId": "4e018e46-590d-4535-9961-da9f3817cb05"
      },
      "outputs": [
        {
          "output_type": "execute_result",
          "data": {
            "text/plain": [
              "   job_id                                      title            location  \\\n",
              "0       1                           Marketing Intern    US, NY, New York   \n",
              "1       2  Customer Service - Cloud Video Production      NZ, , Auckland   \n",
              "2       3    Commissioning Machinery Assistant (CMA)       US, IA, Wever   \n",
              "3       4          Account Executive - Washington DC  US, DC, Washington   \n",
              "4       5                        Bill Review Manager  US, FL, Fort Worth   \n",
              "\n",
              "  department salary_range                                    company_profile  \\\n",
              "0  Marketing          NaN  We're Food52, and we've created a groundbreaki...   \n",
              "1    Success          NaN  90 Seconds, the worlds Cloud Video Production ...   \n",
              "2        NaN          NaN  Valor Services provides Workforce Solutions th...   \n",
              "3      Sales          NaN  Our passion for improving quality of life thro...   \n",
              "4        NaN          NaN  SpotSource Solutions LLC is a Global Human Cap...   \n",
              "\n",
              "                                         description  \\\n",
              "0  Food52, a fast-growing, James Beard Award-winn...   \n",
              "1  Organised - Focused - Vibrant - Awesome!Do you...   \n",
              "2  Our client, located in Houston, is actively se...   \n",
              "3  THE COMPANY: ESRI – Environmental Systems Rese...   \n",
              "4  JOB TITLE: Itemization Review ManagerLOCATION:...   \n",
              "\n",
              "                                        requirements  \\\n",
              "0  Experience with content management systems a m...   \n",
              "1  What we expect from you:Your key responsibilit...   \n",
              "2  Implement pre-commissioning and commissioning ...   \n",
              "3  EDUCATION: Bachelor’s or Master’s in GIS, busi...   \n",
              "4  QUALIFICATIONS:RN license in the State of Texa...   \n",
              "\n",
              "                                            benefits  telecommuting  \\\n",
              "0                                                NaN              0   \n",
              "1  What you will get from usThrough being part of...              0   \n",
              "2                                                NaN              0   \n",
              "3  Our culture is anything but corporate—we have ...              0   \n",
              "4                              Full Benefits Offered              0   \n",
              "\n",
              "   has_company_logo  has_questions employment_type required_experience  \\\n",
              "0                 1              0           Other          Internship   \n",
              "1                 1              0       Full-time      Not Applicable   \n",
              "2                 1              0             NaN                 NaN   \n",
              "3                 1              0       Full-time    Mid-Senior level   \n",
              "4                 1              1       Full-time    Mid-Senior level   \n",
              "\n",
              "  required_education                   industry              function  \\\n",
              "0                NaN                        NaN             Marketing   \n",
              "1                NaN  Marketing and Advertising      Customer Service   \n",
              "2                NaN                        NaN                   NaN   \n",
              "3  Bachelor's Degree          Computer Software                 Sales   \n",
              "4  Bachelor's Degree     Hospital & Health Care  Health Care Provider   \n",
              "\n",
              "   fraudulent  \n",
              "0           0  \n",
              "1           0  \n",
              "2           0  \n",
              "3           0  \n",
              "4           0  "
            ],
            "text/html": [
              "\n",
              "  <div id=\"df-56d73102-e8ec-4d81-ace7-437a874080f9\">\n",
              "    <div class=\"colab-df-container\">\n",
              "      <div>\n",
              "<style scoped>\n",
              "    .dataframe tbody tr th:only-of-type {\n",
              "        vertical-align: middle;\n",
              "    }\n",
              "\n",
              "    .dataframe tbody tr th {\n",
              "        vertical-align: top;\n",
              "    }\n",
              "\n",
              "    .dataframe thead th {\n",
              "        text-align: right;\n",
              "    }\n",
              "</style>\n",
              "<table border=\"1\" class=\"dataframe\">\n",
              "  <thead>\n",
              "    <tr style=\"text-align: right;\">\n",
              "      <th></th>\n",
              "      <th>job_id</th>\n",
              "      <th>title</th>\n",
              "      <th>location</th>\n",
              "      <th>department</th>\n",
              "      <th>salary_range</th>\n",
              "      <th>company_profile</th>\n",
              "      <th>description</th>\n",
              "      <th>requirements</th>\n",
              "      <th>benefits</th>\n",
              "      <th>telecommuting</th>\n",
              "      <th>has_company_logo</th>\n",
              "      <th>has_questions</th>\n",
              "      <th>employment_type</th>\n",
              "      <th>required_experience</th>\n",
              "      <th>required_education</th>\n",
              "      <th>industry</th>\n",
              "      <th>function</th>\n",
              "      <th>fraudulent</th>\n",
              "    </tr>\n",
              "  </thead>\n",
              "  <tbody>\n",
              "    <tr>\n",
              "      <th>0</th>\n",
              "      <td>1</td>\n",
              "      <td>Marketing Intern</td>\n",
              "      <td>US, NY, New York</td>\n",
              "      <td>Marketing</td>\n",
              "      <td>NaN</td>\n",
              "      <td>We're Food52, and we've created a groundbreaki...</td>\n",
              "      <td>Food52, a fast-growing, James Beard Award-winn...</td>\n",
              "      <td>Experience with content management systems a m...</td>\n",
              "      <td>NaN</td>\n",
              "      <td>0</td>\n",
              "      <td>1</td>\n",
              "      <td>0</td>\n",
              "      <td>Other</td>\n",
              "      <td>Internship</td>\n",
              "      <td>NaN</td>\n",
              "      <td>NaN</td>\n",
              "      <td>Marketing</td>\n",
              "      <td>0</td>\n",
              "    </tr>\n",
              "    <tr>\n",
              "      <th>1</th>\n",
              "      <td>2</td>\n",
              "      <td>Customer Service - Cloud Video Production</td>\n",
              "      <td>NZ, , Auckland</td>\n",
              "      <td>Success</td>\n",
              "      <td>NaN</td>\n",
              "      <td>90 Seconds, the worlds Cloud Video Production ...</td>\n",
              "      <td>Organised - Focused - Vibrant - Awesome!Do you...</td>\n",
              "      <td>What we expect from you:Your key responsibilit...</td>\n",
              "      <td>What you will get from usThrough being part of...</td>\n",
              "      <td>0</td>\n",
              "      <td>1</td>\n",
              "      <td>0</td>\n",
              "      <td>Full-time</td>\n",
              "      <td>Not Applicable</td>\n",
              "      <td>NaN</td>\n",
              "      <td>Marketing and Advertising</td>\n",
              "      <td>Customer Service</td>\n",
              "      <td>0</td>\n",
              "    </tr>\n",
              "    <tr>\n",
              "      <th>2</th>\n",
              "      <td>3</td>\n",
              "      <td>Commissioning Machinery Assistant (CMA)</td>\n",
              "      <td>US, IA, Wever</td>\n",
              "      <td>NaN</td>\n",
              "      <td>NaN</td>\n",
              "      <td>Valor Services provides Workforce Solutions th...</td>\n",
              "      <td>Our client, located in Houston, is actively se...</td>\n",
              "      <td>Implement pre-commissioning and commissioning ...</td>\n",
              "      <td>NaN</td>\n",
              "      <td>0</td>\n",
              "      <td>1</td>\n",
              "      <td>0</td>\n",
              "      <td>NaN</td>\n",
              "      <td>NaN</td>\n",
              "      <td>NaN</td>\n",
              "      <td>NaN</td>\n",
              "      <td>NaN</td>\n",
              "      <td>0</td>\n",
              "    </tr>\n",
              "    <tr>\n",
              "      <th>3</th>\n",
              "      <td>4</td>\n",
              "      <td>Account Executive - Washington DC</td>\n",
              "      <td>US, DC, Washington</td>\n",
              "      <td>Sales</td>\n",
              "      <td>NaN</td>\n",
              "      <td>Our passion for improving quality of life thro...</td>\n",
              "      <td>THE COMPANY: ESRI – Environmental Systems Rese...</td>\n",
              "      <td>EDUCATION: Bachelor’s or Master’s in GIS, busi...</td>\n",
              "      <td>Our culture is anything but corporate—we have ...</td>\n",
              "      <td>0</td>\n",
              "      <td>1</td>\n",
              "      <td>0</td>\n",
              "      <td>Full-time</td>\n",
              "      <td>Mid-Senior level</td>\n",
              "      <td>Bachelor's Degree</td>\n",
              "      <td>Computer Software</td>\n",
              "      <td>Sales</td>\n",
              "      <td>0</td>\n",
              "    </tr>\n",
              "    <tr>\n",
              "      <th>4</th>\n",
              "      <td>5</td>\n",
              "      <td>Bill Review Manager</td>\n",
              "      <td>US, FL, Fort Worth</td>\n",
              "      <td>NaN</td>\n",
              "      <td>NaN</td>\n",
              "      <td>SpotSource Solutions LLC is a Global Human Cap...</td>\n",
              "      <td>JOB TITLE: Itemization Review ManagerLOCATION:...</td>\n",
              "      <td>QUALIFICATIONS:RN license in the State of Texa...</td>\n",
              "      <td>Full Benefits Offered</td>\n",
              "      <td>0</td>\n",
              "      <td>1</td>\n",
              "      <td>1</td>\n",
              "      <td>Full-time</td>\n",
              "      <td>Mid-Senior level</td>\n",
              "      <td>Bachelor's Degree</td>\n",
              "      <td>Hospital &amp; Health Care</td>\n",
              "      <td>Health Care Provider</td>\n",
              "      <td>0</td>\n",
              "    </tr>\n",
              "  </tbody>\n",
              "</table>\n",
              "</div>\n",
              "      <button class=\"colab-df-convert\" onclick=\"convertToInteractive('df-56d73102-e8ec-4d81-ace7-437a874080f9')\"\n",
              "              title=\"Convert this dataframe to an interactive table.\"\n",
              "              style=\"display:none;\">\n",
              "        \n",
              "  <svg xmlns=\"http://www.w3.org/2000/svg\" height=\"24px\"viewBox=\"0 0 24 24\"\n",
              "       width=\"24px\">\n",
              "    <path d=\"M0 0h24v24H0V0z\" fill=\"none\"/>\n",
              "    <path d=\"M18.56 5.44l.94 2.06.94-2.06 2.06-.94-2.06-.94-.94-2.06-.94 2.06-2.06.94zm-11 1L8.5 8.5l.94-2.06 2.06-.94-2.06-.94L8.5 2.5l-.94 2.06-2.06.94zm10 10l.94 2.06.94-2.06 2.06-.94-2.06-.94-.94-2.06-.94 2.06-2.06.94z\"/><path d=\"M17.41 7.96l-1.37-1.37c-.4-.4-.92-.59-1.43-.59-.52 0-1.04.2-1.43.59L10.3 9.45l-7.72 7.72c-.78.78-.78 2.05 0 2.83L4 21.41c.39.39.9.59 1.41.59.51 0 1.02-.2 1.41-.59l7.78-7.78 2.81-2.81c.8-.78.8-2.07 0-2.86zM5.41 20L4 18.59l7.72-7.72 1.47 1.35L5.41 20z\"/>\n",
              "  </svg>\n",
              "      </button>\n",
              "      \n",
              "  <style>\n",
              "    .colab-df-container {\n",
              "      display:flex;\n",
              "      flex-wrap:wrap;\n",
              "      gap: 12px;\n",
              "    }\n",
              "\n",
              "    .colab-df-convert {\n",
              "      background-color: #E8F0FE;\n",
              "      border: none;\n",
              "      border-radius: 50%;\n",
              "      cursor: pointer;\n",
              "      display: none;\n",
              "      fill: #1967D2;\n",
              "      height: 32px;\n",
              "      padding: 0 0 0 0;\n",
              "      width: 32px;\n",
              "    }\n",
              "\n",
              "    .colab-df-convert:hover {\n",
              "      background-color: #E2EBFA;\n",
              "      box-shadow: 0px 1px 2px rgba(60, 64, 67, 0.3), 0px 1px 3px 1px rgba(60, 64, 67, 0.15);\n",
              "      fill: #174EA6;\n",
              "    }\n",
              "\n",
              "    [theme=dark] .colab-df-convert {\n",
              "      background-color: #3B4455;\n",
              "      fill: #D2E3FC;\n",
              "    }\n",
              "\n",
              "    [theme=dark] .colab-df-convert:hover {\n",
              "      background-color: #434B5C;\n",
              "      box-shadow: 0px 1px 3px 1px rgba(0, 0, 0, 0.15);\n",
              "      filter: drop-shadow(0px 1px 2px rgba(0, 0, 0, 0.3));\n",
              "      fill: #FFFFFF;\n",
              "    }\n",
              "  </style>\n",
              "\n",
              "      <script>\n",
              "        const buttonEl =\n",
              "          document.querySelector('#df-56d73102-e8ec-4d81-ace7-437a874080f9 button.colab-df-convert');\n",
              "        buttonEl.style.display =\n",
              "          google.colab.kernel.accessAllowed ? 'block' : 'none';\n",
              "\n",
              "        async function convertToInteractive(key) {\n",
              "          const element = document.querySelector('#df-56d73102-e8ec-4d81-ace7-437a874080f9');\n",
              "          const dataTable =\n",
              "            await google.colab.kernel.invokeFunction('convertToInteractive',\n",
              "                                                     [key], {});\n",
              "          if (!dataTable) return;\n",
              "\n",
              "          const docLinkHtml = 'Like what you see? Visit the ' +\n",
              "            '<a target=\"_blank\" href=https://colab.research.google.com/notebooks/data_table.ipynb>data table notebook</a>'\n",
              "            + ' to learn more about interactive tables.';\n",
              "          element.innerHTML = '';\n",
              "          dataTable['output_type'] = 'display_data';\n",
              "          await google.colab.output.renderOutput(dataTable, element);\n",
              "          const docLink = document.createElement('div');\n",
              "          docLink.innerHTML = docLinkHtml;\n",
              "          element.appendChild(docLink);\n",
              "        }\n",
              "      </script>\n",
              "    </div>\n",
              "  </div>\n",
              "  "
            ]
          },
          "metadata": {},
          "execution_count": 7
        }
      ],
      "source": [
        "df1.head()"
      ]
    },
    {
      "cell_type": "code",
      "execution_count": 8,
      "id": "d42f39d9",
      "metadata": {
        "execution": {
          "iopub.execute_input": "2021-10-09T06:15:24.628330Z",
          "iopub.status.busy": "2021-10-09T06:15:24.627356Z",
          "iopub.status.idle": "2021-10-09T06:15:24.632637Z",
          "shell.execute_reply": "2021-10-09T06:15:24.633157Z",
          "shell.execute_reply.started": "2021-10-09T05:39:00.810451Z"
        },
        "papermill": {
          "duration": 0.03729,
          "end_time": "2021-10-09T06:15:24.633320",
          "exception": false,
          "start_time": "2021-10-09T06:15:24.596030",
          "status": "completed"
        },
        "tags": [],
        "id": "d42f39d9",
        "colab": {
          "base_uri": "https://localhost:8080/"
        },
        "outputId": "2490dc58-53ab-42bb-af5d-4ef18a8ce22b"
      },
      "outputs": [
        {
          "output_type": "execute_result",
          "data": {
            "text/plain": [
              "(17880, 18)"
            ]
          },
          "metadata": {},
          "execution_count": 8
        }
      ],
      "source": [
        "df1.shape"
      ]
    },
    {
      "cell_type": "code",
      "execution_count": 9,
      "id": "6941f334",
      "metadata": {
        "execution": {
          "iopub.execute_input": "2021-10-09T06:15:24.694616Z",
          "iopub.status.busy": "2021-10-09T06:15:24.693613Z",
          "iopub.status.idle": "2021-10-09T06:15:24.710723Z",
          "shell.execute_reply": "2021-10-09T06:15:24.711272Z",
          "shell.execute_reply.started": "2021-10-09T05:39:00.818024Z"
        },
        "papermill": {
          "duration": 0.04947,
          "end_time": "2021-10-09T06:15:24.711441",
          "exception": false,
          "start_time": "2021-10-09T06:15:24.661971",
          "status": "completed"
        },
        "tags": [],
        "id": "6941f334",
        "colab": {
          "base_uri": "https://localhost:8080/",
          "height": 206
        },
        "outputId": "86918194-8da3-4d5a-92f1-134156683d6c"
      },
      "outputs": [
        {
          "output_type": "execute_result",
          "data": {
            "text/plain": [
              "                                         description  \\\n",
              "0  Food52, a fast-growing, James Beard Award-winn...   \n",
              "1  Organised - Focused - Vibrant - Awesome!Do you...   \n",
              "2  Our client, located in Houston, is actively se...   \n",
              "3  THE COMPANY: ESRI – Environmental Systems Rese...   \n",
              "4  JOB TITLE: Itemization Review ManagerLOCATION:...   \n",
              "\n",
              "                                        requirements  fraudulent  \n",
              "0  Experience with content management systems a m...           0  \n",
              "1  What we expect from you:Your key responsibilit...           0  \n",
              "2  Implement pre-commissioning and commissioning ...           0  \n",
              "3  EDUCATION: Bachelor’s or Master’s in GIS, busi...           0  \n",
              "4  QUALIFICATIONS:RN license in the State of Texa...           0  "
            ],
            "text/html": [
              "\n",
              "  <div id=\"df-ae8c861d-61e7-4901-9493-cfc44004bed3\">\n",
              "    <div class=\"colab-df-container\">\n",
              "      <div>\n",
              "<style scoped>\n",
              "    .dataframe tbody tr th:only-of-type {\n",
              "        vertical-align: middle;\n",
              "    }\n",
              "\n",
              "    .dataframe tbody tr th {\n",
              "        vertical-align: top;\n",
              "    }\n",
              "\n",
              "    .dataframe thead th {\n",
              "        text-align: right;\n",
              "    }\n",
              "</style>\n",
              "<table border=\"1\" class=\"dataframe\">\n",
              "  <thead>\n",
              "    <tr style=\"text-align: right;\">\n",
              "      <th></th>\n",
              "      <th>description</th>\n",
              "      <th>requirements</th>\n",
              "      <th>fraudulent</th>\n",
              "    </tr>\n",
              "  </thead>\n",
              "  <tbody>\n",
              "    <tr>\n",
              "      <th>0</th>\n",
              "      <td>Food52, a fast-growing, James Beard Award-winn...</td>\n",
              "      <td>Experience with content management systems a m...</td>\n",
              "      <td>0</td>\n",
              "    </tr>\n",
              "    <tr>\n",
              "      <th>1</th>\n",
              "      <td>Organised - Focused - Vibrant - Awesome!Do you...</td>\n",
              "      <td>What we expect from you:Your key responsibilit...</td>\n",
              "      <td>0</td>\n",
              "    </tr>\n",
              "    <tr>\n",
              "      <th>2</th>\n",
              "      <td>Our client, located in Houston, is actively se...</td>\n",
              "      <td>Implement pre-commissioning and commissioning ...</td>\n",
              "      <td>0</td>\n",
              "    </tr>\n",
              "    <tr>\n",
              "      <th>3</th>\n",
              "      <td>THE COMPANY: ESRI – Environmental Systems Rese...</td>\n",
              "      <td>EDUCATION: Bachelor’s or Master’s in GIS, busi...</td>\n",
              "      <td>0</td>\n",
              "    </tr>\n",
              "    <tr>\n",
              "      <th>4</th>\n",
              "      <td>JOB TITLE: Itemization Review ManagerLOCATION:...</td>\n",
              "      <td>QUALIFICATIONS:RN license in the State of Texa...</td>\n",
              "      <td>0</td>\n",
              "    </tr>\n",
              "  </tbody>\n",
              "</table>\n",
              "</div>\n",
              "      <button class=\"colab-df-convert\" onclick=\"convertToInteractive('df-ae8c861d-61e7-4901-9493-cfc44004bed3')\"\n",
              "              title=\"Convert this dataframe to an interactive table.\"\n",
              "              style=\"display:none;\">\n",
              "        \n",
              "  <svg xmlns=\"http://www.w3.org/2000/svg\" height=\"24px\"viewBox=\"0 0 24 24\"\n",
              "       width=\"24px\">\n",
              "    <path d=\"M0 0h24v24H0V0z\" fill=\"none\"/>\n",
              "    <path d=\"M18.56 5.44l.94 2.06.94-2.06 2.06-.94-2.06-.94-.94-2.06-.94 2.06-2.06.94zm-11 1L8.5 8.5l.94-2.06 2.06-.94-2.06-.94L8.5 2.5l-.94 2.06-2.06.94zm10 10l.94 2.06.94-2.06 2.06-.94-2.06-.94-.94-2.06-.94 2.06-2.06.94z\"/><path d=\"M17.41 7.96l-1.37-1.37c-.4-.4-.92-.59-1.43-.59-.52 0-1.04.2-1.43.59L10.3 9.45l-7.72 7.72c-.78.78-.78 2.05 0 2.83L4 21.41c.39.39.9.59 1.41.59.51 0 1.02-.2 1.41-.59l7.78-7.78 2.81-2.81c.8-.78.8-2.07 0-2.86zM5.41 20L4 18.59l7.72-7.72 1.47 1.35L5.41 20z\"/>\n",
              "  </svg>\n",
              "      </button>\n",
              "      \n",
              "  <style>\n",
              "    .colab-df-container {\n",
              "      display:flex;\n",
              "      flex-wrap:wrap;\n",
              "      gap: 12px;\n",
              "    }\n",
              "\n",
              "    .colab-df-convert {\n",
              "      background-color: #E8F0FE;\n",
              "      border: none;\n",
              "      border-radius: 50%;\n",
              "      cursor: pointer;\n",
              "      display: none;\n",
              "      fill: #1967D2;\n",
              "      height: 32px;\n",
              "      padding: 0 0 0 0;\n",
              "      width: 32px;\n",
              "    }\n",
              "\n",
              "    .colab-df-convert:hover {\n",
              "      background-color: #E2EBFA;\n",
              "      box-shadow: 0px 1px 2px rgba(60, 64, 67, 0.3), 0px 1px 3px 1px rgba(60, 64, 67, 0.15);\n",
              "      fill: #174EA6;\n",
              "    }\n",
              "\n",
              "    [theme=dark] .colab-df-convert {\n",
              "      background-color: #3B4455;\n",
              "      fill: #D2E3FC;\n",
              "    }\n",
              "\n",
              "    [theme=dark] .colab-df-convert:hover {\n",
              "      background-color: #434B5C;\n",
              "      box-shadow: 0px 1px 3px 1px rgba(0, 0, 0, 0.15);\n",
              "      filter: drop-shadow(0px 1px 2px rgba(0, 0, 0, 0.3));\n",
              "      fill: #FFFFFF;\n",
              "    }\n",
              "  </style>\n",
              "\n",
              "      <script>\n",
              "        const buttonEl =\n",
              "          document.querySelector('#df-ae8c861d-61e7-4901-9493-cfc44004bed3 button.colab-df-convert');\n",
              "        buttonEl.style.display =\n",
              "          google.colab.kernel.accessAllowed ? 'block' : 'none';\n",
              "\n",
              "        async function convertToInteractive(key) {\n",
              "          const element = document.querySelector('#df-ae8c861d-61e7-4901-9493-cfc44004bed3');\n",
              "          const dataTable =\n",
              "            await google.colab.kernel.invokeFunction('convertToInteractive',\n",
              "                                                     [key], {});\n",
              "          if (!dataTable) return;\n",
              "\n",
              "          const docLinkHtml = 'Like what you see? Visit the ' +\n",
              "            '<a target=\"_blank\" href=https://colab.research.google.com/notebooks/data_table.ipynb>data table notebook</a>'\n",
              "            + ' to learn more about interactive tables.';\n",
              "          element.innerHTML = '';\n",
              "          dataTable['output_type'] = 'display_data';\n",
              "          await google.colab.output.renderOutput(dataTable, element);\n",
              "          const docLink = document.createElement('div');\n",
              "          docLink.innerHTML = docLinkHtml;\n",
              "          element.appendChild(docLink);\n",
              "        }\n",
              "      </script>\n",
              "    </div>\n",
              "  </div>\n",
              "  "
            ]
          },
          "metadata": {},
          "execution_count": 9
        }
      ],
      "source": [
        "df=df1[['description','requirements','fraudulent']]\n",
        "df.head()"
      ]
    },
    {
      "cell_type": "code",
      "execution_count": 10,
      "id": "cf3f2b68",
      "metadata": {
        "execution": {
          "iopub.execute_input": "2021-10-09T06:15:24.777316Z",
          "iopub.status.busy": "2021-10-09T06:15:24.776434Z",
          "iopub.status.idle": "2021-10-09T06:15:24.787639Z",
          "shell.execute_reply": "2021-10-09T06:15:24.788113Z",
          "shell.execute_reply.started": "2021-10-09T05:39:00.839338Z"
        },
        "papermill": {
          "duration": 0.047187,
          "end_time": "2021-10-09T06:15:24.788289",
          "exception": false,
          "start_time": "2021-10-09T06:15:24.741102",
          "status": "completed"
        },
        "tags": [],
        "id": "cf3f2b68"
      },
      "outputs": [],
      "source": [
        "###Drop Nan Values\n",
        "df=df.dropna()"
      ]
    },
    {
      "cell_type": "code",
      "execution_count": 11,
      "id": "5fd29d65",
      "metadata": {
        "execution": {
          "iopub.execute_input": "2021-10-09T06:15:24.852786Z",
          "iopub.status.busy": "2021-10-09T06:15:24.851935Z",
          "iopub.status.idle": "2021-10-09T06:15:24.855135Z",
          "shell.execute_reply": "2021-10-09T06:15:24.855623Z",
          "shell.execute_reply.started": "2021-10-09T05:39:00.862901Z"
        },
        "papermill": {
          "duration": 0.038266,
          "end_time": "2021-10-09T06:15:24.855785",
          "exception": false,
          "start_time": "2021-10-09T06:15:24.817519",
          "status": "completed"
        },
        "tags": [],
        "id": "5fd29d65",
        "colab": {
          "base_uri": "https://localhost:8080/"
        },
        "outputId": "009497dd-c7fe-4428-f88a-c5a08a979c7b"
      },
      "outputs": [
        {
          "output_type": "execute_result",
          "data": {
            "text/plain": [
              "(15185, 3)"
            ]
          },
          "metadata": {},
          "execution_count": 11
        }
      ],
      "source": [
        "df.shape"
      ]
    },
    {
      "cell_type": "code",
      "execution_count": 12,
      "id": "1de590b0",
      "metadata": {
        "execution": {
          "iopub.execute_input": "2021-10-09T06:15:24.939226Z",
          "iopub.status.busy": "2021-10-09T06:15:24.937925Z",
          "iopub.status.idle": "2021-10-09T06:15:24.944462Z",
          "shell.execute_reply": "2021-10-09T06:15:24.943613Z",
          "shell.execute_reply.started": "2021-10-09T05:39:00.871205Z"
        },
        "papermill": {
          "duration": 0.053822,
          "end_time": "2021-10-09T06:15:24.944641",
          "exception": false,
          "start_time": "2021-10-09T06:15:24.890819",
          "status": "completed"
        },
        "tags": [],
        "id": "1de590b0"
      },
      "outputs": [],
      "source": [
        "## Get the Independent Features\n",
        "\n",
        "X=df.drop('fraudulent',axis=1)"
      ]
    },
    {
      "cell_type": "code",
      "execution_count": 13,
      "id": "41f0cbf9",
      "metadata": {
        "execution": {
          "iopub.execute_input": "2021-10-09T06:15:25.019585Z",
          "iopub.status.busy": "2021-10-09T06:15:25.018783Z",
          "iopub.status.idle": "2021-10-09T06:15:25.021822Z",
          "shell.execute_reply": "2021-10-09T06:15:25.021162Z",
          "shell.execute_reply.started": "2021-10-09T05:39:00.883810Z"
        },
        "papermill": {
          "duration": 0.03953,
          "end_time": "2021-10-09T06:15:25.021959",
          "exception": false,
          "start_time": "2021-10-09T06:15:24.982429",
          "status": "completed"
        },
        "tags": [],
        "id": "41f0cbf9"
      },
      "outputs": [],
      "source": [
        "## Get the Dependent features\n",
        "y=df['fraudulent']"
      ]
    },
    {
      "cell_type": "code",
      "execution_count": 14,
      "id": "e5b1bfa7",
      "metadata": {
        "execution": {
          "iopub.execute_input": "2021-10-09T06:15:25.091092Z",
          "iopub.status.busy": "2021-10-09T06:15:25.090280Z",
          "iopub.status.idle": "2021-10-09T06:15:25.093654Z",
          "shell.execute_reply": "2021-10-09T06:15:25.094091Z",
          "shell.execute_reply.started": "2021-10-09T05:39:00.897259Z"
        },
        "papermill": {
          "duration": 0.042188,
          "end_time": "2021-10-09T06:15:25.094256",
          "exception": false,
          "start_time": "2021-10-09T06:15:25.052068",
          "status": "completed"
        },
        "tags": [],
        "id": "e5b1bfa7",
        "colab": {
          "base_uri": "https://localhost:8080/"
        },
        "outputId": "c4f306b9-88e8-43de-df5c-762ef8f6f1b6"
      },
      "outputs": [
        {
          "output_type": "execute_result",
          "data": {
            "text/plain": [
              "0    14473\n",
              "1      712\n",
              "Name: fraudulent, dtype: int64"
            ]
          },
          "metadata": {},
          "execution_count": 14
        }
      ],
      "source": [
        "y.value_counts()"
      ]
    },
    {
      "cell_type": "code",
      "execution_count": 15,
      "id": "f4ae3ed6",
      "metadata": {
        "execution": {
          "iopub.execute_input": "2021-10-09T06:15:25.158776Z",
          "iopub.status.busy": "2021-10-09T06:15:25.158107Z",
          "iopub.status.idle": "2021-10-09T06:15:30.497442Z",
          "shell.execute_reply": "2021-10-09T06:15:30.496909Z",
          "shell.execute_reply.started": "2021-10-09T05:39:00.912456Z"
        },
        "papermill": {
          "duration": 5.373473,
          "end_time": "2021-10-09T06:15:30.497598",
          "exception": false,
          "start_time": "2021-10-09T06:15:25.124125",
          "status": "completed"
        },
        "tags": [],
        "id": "f4ae3ed6",
        "colab": {
          "base_uri": "https://localhost:8080/",
          "height": 36
        },
        "outputId": "aeeda230-ff76-4c6f-c157-bc86e00090ae"
      },
      "outputs": [
        {
          "output_type": "execute_result",
          "data": {
            "text/plain": [
              "'2.9.2'"
            ],
            "application/vnd.google.colaboratory.intrinsic+json": {
              "type": "string"
            }
          },
          "metadata": {},
          "execution_count": 15
        }
      ],
      "source": [
        "import tensorflow as tf\n",
        "tf.__version__"
      ]
    },
    {
      "cell_type": "code",
      "execution_count": 17,
      "id": "ed71fca8",
      "metadata": {
        "execution": {
          "iopub.execute_input": "2021-10-09T06:15:30.635348Z",
          "iopub.status.busy": "2021-10-09T06:15:30.634659Z",
          "iopub.status.idle": "2021-10-09T06:15:30.637529Z",
          "shell.execute_reply": "2021-10-09T06:15:30.637040Z",
          "shell.execute_reply.started": "2021-10-09T05:39:05.886583Z"
        },
        "papermill": {
          "duration": 0.037634,
          "end_time": "2021-10-09T06:15:30.637678",
          "exception": false,
          "start_time": "2021-10-09T06:15:30.600044",
          "status": "completed"
        },
        "tags": [],
        "id": "ed71fca8"
      },
      "outputs": [],
      "source": [
        "voc_size=5000"
      ]
    },
    {
      "cell_type": "code",
      "source": [],
      "metadata": {
        "id": "cs2D330liGpf"
      },
      "id": "cs2D330liGpf",
      "execution_count": 17,
      "outputs": []
    },
    {
      "cell_type": "markdown",
      "id": "58fbaf39",
      "metadata": {
        "papermill": {
          "duration": 0.030435,
          "end_time": "2021-10-09T06:15:30.699031",
          "exception": false,
          "start_time": "2021-10-09T06:15:30.668596",
          "status": "completed"
        },
        "tags": [],
        "id": "58fbaf39"
      },
      "source": [
        ">  ****One-hot Representation****"
      ]
    },
    {
      "cell_type": "code",
      "execution_count": 18,
      "id": "5179d4ff",
      "metadata": {
        "execution": {
          "iopub.execute_input": "2021-10-09T06:15:30.765898Z",
          "iopub.status.busy": "2021-10-09T06:15:30.763342Z",
          "iopub.status.idle": "2021-10-09T06:15:30.768859Z",
          "shell.execute_reply": "2021-10-09T06:15:30.768246Z",
          "shell.execute_reply.started": "2021-10-09T05:39:05.898489Z"
        },
        "papermill": {
          "duration": 0.039068,
          "end_time": "2021-10-09T06:15:30.769006",
          "exception": false,
          "start_time": "2021-10-09T06:15:30.729938",
          "status": "completed"
        },
        "tags": [],
        "id": "5179d4ff"
      },
      "outputs": [],
      "source": [
        "message = X.copy()"
      ]
    },
    {
      "cell_type": "code",
      "execution_count": 19,
      "id": "b26384c5",
      "metadata": {
        "execution": {
          "iopub.execute_input": "2021-10-09T06:15:30.835223Z",
          "iopub.status.busy": "2021-10-09T06:15:30.834560Z",
          "iopub.status.idle": "2021-10-09T06:15:30.838521Z",
          "shell.execute_reply": "2021-10-09T06:15:30.838965Z",
          "shell.execute_reply.started": "2021-10-09T05:39:05.909438Z"
        },
        "papermill": {
          "duration": 0.0396,
          "end_time": "2021-10-09T06:15:30.839142",
          "exception": false,
          "start_time": "2021-10-09T06:15:30.799542",
          "status": "completed"
        },
        "tags": [],
        "id": "b26384c5",
        "colab": {
          "base_uri": "https://localhost:8080/",
          "height": 140
        },
        "outputId": "86a71433-7117-4683-e9a0-83bb4c169b0e"
      },
      "outputs": [
        {
          "output_type": "execute_result",
          "data": {
            "text/plain": [
              "\"Organised - Focused - Vibrant - Awesome!Do you have a passion for customer service? Slick typing skills? Maybe Account Management? ...And think administration is cooler than a polar bear on a jetski? Then we need to hear you!\\xa0We are the Cloud Video Production Service and opperating on a glodal level. Yeah, it's pretty cool. Serious about\\xa0delivering a world class product and excellent customer service.Our rapidly expanding business is looking for a talented Project Manager to manage the successful delivery of video projects, manage client communications and drive the production process. Work with some of the coolest brands on the planet and learn from a global team that are representing NZ is a huge way!We are entering the next growth stage of our business and growing quickly internationally. \\xa0Therefore, the position is bursting with opportunity for the right person entering the business at the right time.\\xa090 Seconds, the worlds Cloud Video Production Service -\\xa0http://90#URL_fbe6559afac620a3cd2c22281f7b8d0eef56a73e3d9a311e2f1ca13d081dd630#90 Seconds is the worlds Cloud Video Production Service enabling brands and agencies to get high quality online video content shot and produced anywhere in the world. Fast, affordable, and all managed seamlessly in the cloud from purchase to publish.\\xa090 Seconds removes the hassle, cost, risk and speed issues of working with regular video production companies by managing every aspect of video projects in a beautiful online experience. \\xa0With a growing network of over 2,000 rated video professionals in over 50 countries and dedicated production success teams in 5 countries guaranteeing video project success 100%. It's as easy as commissioning a quick google adwords campaign.90 Seconds has produced almost 4,000 videos in over 30 Countries for over 500 Global brands including some of the worlds largest including Paypal, L'oreal, Sony and Barclays and has offices in Auckland, London, Sydney, Tokyo &amp; Singapore.Our Auckland office is based\\xa0right in the heart of the Wynyard Quarter Innovation Precinct - GridAKL!\\xa0\""
            ],
            "application/vnd.google.colaboratory.intrinsic+json": {
              "type": "string"
            }
          },
          "metadata": {},
          "execution_count": 19
        }
      ],
      "source": [
        "message['description'][1]"
      ]
    },
    {
      "cell_type": "code",
      "execution_count": 20,
      "id": "b276c65b",
      "metadata": {
        "execution": {
          "iopub.execute_input": "2021-10-09T06:15:30.904643Z",
          "iopub.status.busy": "2021-10-09T06:15:30.903889Z",
          "iopub.status.idle": "2021-10-09T06:15:30.907967Z",
          "shell.execute_reply": "2021-10-09T06:15:30.908446Z",
          "shell.execute_reply.started": "2021-10-09T05:39:05.921854Z"
        },
        "papermill": {
          "duration": 0.038651,
          "end_time": "2021-10-09T06:15:30.908666",
          "exception": false,
          "start_time": "2021-10-09T06:15:30.870015",
          "status": "completed"
        },
        "tags": [],
        "id": "b276c65b"
      },
      "outputs": [],
      "source": [
        "message.reset_index(inplace=True)"
      ]
    },
    {
      "cell_type": "code",
      "execution_count": 21,
      "id": "e877f69a",
      "metadata": {
        "execution": {
          "iopub.execute_input": "2021-10-09T06:15:30.976243Z",
          "iopub.status.busy": "2021-10-09T06:15:30.975469Z",
          "iopub.status.idle": "2021-10-09T06:15:32.427175Z",
          "shell.execute_reply": "2021-10-09T06:15:32.426645Z",
          "shell.execute_reply.started": "2021-10-09T05:39:05.931715Z"
        },
        "papermill": {
          "duration": 1.487457,
          "end_time": "2021-10-09T06:15:32.427320",
          "exception": false,
          "start_time": "2021-10-09T06:15:30.939863",
          "status": "completed"
        },
        "tags": [],
        "id": "e877f69a"
      },
      "outputs": [],
      "source": [
        "import nltk\n",
        "import re\n",
        "from nltk.corpus import stopwords"
      ]
    },
    {
      "cell_type": "code",
      "execution_count": 22,
      "id": "0dff5207",
      "metadata": {
        "execution": {
          "iopub.execute_input": "2021-10-09T06:15:32.503592Z",
          "iopub.status.busy": "2021-10-09T06:15:32.493134Z",
          "iopub.status.idle": "2021-10-09T06:15:32.769797Z",
          "shell.execute_reply": "2021-10-09T06:15:32.770288Z",
          "shell.execute_reply.started": "2021-10-09T05:39:07.269587Z"
        },
        "papermill": {
          "duration": 0.311201,
          "end_time": "2021-10-09T06:15:32.770455",
          "exception": false,
          "start_time": "2021-10-09T06:15:32.459254",
          "status": "completed"
        },
        "tags": [],
        "id": "0dff5207",
        "colab": {
          "base_uri": "https://localhost:8080/"
        },
        "outputId": "21e730da-5d30-4e2e-8353-48a54a621a1f"
      },
      "outputs": [
        {
          "output_type": "stream",
          "name": "stderr",
          "text": [
            "[nltk_data] Downloading package stopwords to /root/nltk_data...\n",
            "[nltk_data]   Unzipping corpora/stopwords.zip.\n"
          ]
        },
        {
          "output_type": "execute_result",
          "data": {
            "text/plain": [
              "True"
            ]
          },
          "metadata": {},
          "execution_count": 22
        }
      ],
      "source": [
        "nltk.download('stopwords')"
      ]
    },
    {
      "cell_type": "code",
      "execution_count": 23,
      "id": "fc7d9062",
      "metadata": {
        "execution": {
          "iopub.execute_input": "2021-10-09T06:15:32.841604Z",
          "iopub.status.busy": "2021-10-09T06:15:32.840870Z",
          "iopub.status.idle": "2021-10-09T06:22:19.107850Z",
          "shell.execute_reply": "2021-10-09T06:22:19.107225Z",
          "shell.execute_reply.started": "2021-10-09T05:39:07.355649Z"
        },
        "papermill": {
          "duration": 406.306131,
          "end_time": "2021-10-09T06:22:19.108019",
          "exception": false,
          "start_time": "2021-10-09T06:15:32.801888",
          "status": "completed"
        },
        "tags": [],
        "id": "fc7d9062"
      },
      "outputs": [],
      "source": [
        "from nltk.stem.porter import PorterStemmer\n",
        "ps = PorterStemmer()\n",
        "corpus = []\n",
        "for i in range(0, len(message)):\n",
        "    review = re.sub('[^a-zA-Z]', ' ', message['description'][i])\n",
        "    review = review.lower()\n",
        "    review = review.split()\n",
        "    \n",
        "    review = [ps.stem(word) for word in review if not word in stopwords.words('english')]\n",
        "    review = ' '.join(review)\n",
        "    corpus.append(review)"
      ]
    },
    {
      "cell_type": "code",
      "execution_count": 24,
      "id": "d6aab10e",
      "metadata": {
        "execution": {
          "iopub.execute_input": "2021-10-09T06:22:19.175250Z",
          "iopub.status.busy": "2021-10-09T06:22:19.174632Z",
          "iopub.status.idle": "2021-10-09T06:22:19.179676Z",
          "shell.execute_reply": "2021-10-09T06:22:19.180114Z",
          "shell.execute_reply.started": "2021-10-09T05:45:50.375657Z"
        },
        "papermill": {
          "duration": 0.039819,
          "end_time": "2021-10-09T06:22:19.180282",
          "exception": false,
          "start_time": "2021-10-09T06:22:19.140463",
          "status": "completed"
        },
        "tags": [],
        "id": "d6aab10e",
        "colab": {
          "base_uri": "https://localhost:8080/",
          "height": 140
        },
        "outputId": "3f8aa6f2-afbf-4b40-aa47-0043c653387c"
      },
      "outputs": [
        {
          "output_type": "execute_result",
          "data": {
            "text/plain": [
              "'organis focus vibrant awesom passion custom servic slick type skill mayb account manag think administr cooler polar bear jetski need hear cloud video product servic opper glodal level yeah pretti cool seriou deliv world class product excel custom servic rapidli expand busi look talent project manag manag success deliveri video project manag client commun drive product process work coolest brand planet learn global team repres nz huge way enter next growth stage busi grow quickli intern therefor posit burst opportun right person enter busi right time second world cloud video product servic http url fbe afac cd c f b eef e e f ca dd second world cloud video product servic enabl brand agenc get high qualiti onlin video content shot produc anywher world fast afford manag seamlessli cloud purchas publish second remov hassl cost risk speed issu work regular video product compani manag everi aspect video project beauti onlin experi grow network rate video profession countri dedic product success team countri guarante video project success easi commiss quick googl adword campaign second produc almost video countri global brand includ world largest includ paypal l oreal soni barclay offic auckland london sydney tokyo amp singapor auckland offic base right heart wynyard quarter innov precinct gridakl'"
            ],
            "application/vnd.google.colaboratory.intrinsic+json": {
              "type": "string"
            }
          },
          "metadata": {},
          "execution_count": 24
        }
      ],
      "source": [
        "corpus[1]"
      ]
    },
    {
      "cell_type": "code",
      "execution_count": 25,
      "id": "54d9704c",
      "metadata": {
        "execution": {
          "iopub.execute_input": "2021-10-09T06:22:19.248127Z",
          "iopub.status.busy": "2021-10-09T06:22:19.247439Z",
          "iopub.status.idle": "2021-10-09T06:22:20.298970Z",
          "shell.execute_reply": "2021-10-09T06:22:20.299515Z",
          "shell.execute_reply.started": "2021-10-09T05:45:50.382390Z"
        },
        "papermill": {
          "duration": 1.087165,
          "end_time": "2021-10-09T06:22:20.299688",
          "exception": false,
          "start_time": "2021-10-09T06:22:19.212523",
          "status": "completed"
        },
        "tags": [],
        "id": "54d9704c",
        "colab": {
          "base_uri": "https://localhost:8080/"
        },
        "outputId": "034673f0-bb92-45b6-a03f-aeead5cd74f7"
      },
      "outputs": [
        {
          "output_type": "execute_result",
          "data": {
            "text/plain": [
              "[671,\n",
              " 4031,\n",
              " 441,\n",
              " 3796,\n",
              " 2838,\n",
              " 4462,\n",
              " 3099,\n",
              " 492,\n",
              " 4334,\n",
              " 844,\n",
              " 4301,\n",
              " 99,\n",
              " 2786,\n",
              " 1624,\n",
              " 1917,\n",
              " 2484,\n",
              " 2918,\n",
              " 1022,\n",
              " 477,\n",
              " 2650,\n",
              " 1523,\n",
              " 4813,\n",
              " 1352,\n",
              " 144,\n",
              " 3099,\n",
              " 2964,\n",
              " 3830,\n",
              " 3375,\n",
              " 8,\n",
              " 321,\n",
              " 1995,\n",
              " 2328,\n",
              " 3234,\n",
              " 952,\n",
              " 977,\n",
              " 144,\n",
              " 532,\n",
              " 4462,\n",
              " 3099,\n",
              " 4780,\n",
              " 1963,\n",
              " 4068,\n",
              " 1434,\n",
              " 884,\n",
              " 2840,\n",
              " 2786,\n",
              " 2786,\n",
              " 1934,\n",
              " 3655,\n",
              " 1352,\n",
              " 2840,\n",
              " 2786,\n",
              " 3893,\n",
              " 4380,\n",
              " 1269,\n",
              " 144,\n",
              " 2550,\n",
              " 3577,\n",
              " 3145,\n",
              " 2202,\n",
              " 4885,\n",
              " 3411,\n",
              " 4969,\n",
              " 3182,\n",
              " 441,\n",
              " 3373,\n",
              " 107,\n",
              " 4323,\n",
              " 4581,\n",
              " 635,\n",
              " 4819,\n",
              " 1169,\n",
              " 4068,\n",
              " 1563,\n",
              " 4947,\n",
              " 2150,\n",
              " 793,\n",
              " 3134,\n",
              " 1157,\n",
              " 3193,\n",
              " 2214,\n",
              " 3161,\n",
              " 4581,\n",
              " 4068,\n",
              " 2214,\n",
              " 3147,\n",
              " 3139,\n",
              " 952,\n",
              " 4813,\n",
              " 1352,\n",
              " 144,\n",
              " 3099,\n",
              " 4935,\n",
              " 694,\n",
              " 3492,\n",
              " 4439,\n",
              " 311,\n",
              " 1535,\n",
              " 2810,\n",
              " 949,\n",
              " 3485,\n",
              " 2277,\n",
              " 2277,\n",
              " 2810,\n",
              " 3253,\n",
              " 4950,\n",
              " 3139,\n",
              " 952,\n",
              " 4813,\n",
              " 1352,\n",
              " 144,\n",
              " 3099,\n",
              " 1606,\n",
              " 2202,\n",
              " 3773,\n",
              " 13,\n",
              " 1022,\n",
              " 357,\n",
              " 1693,\n",
              " 1352,\n",
              " 1002,\n",
              " 1349,\n",
              " 3362,\n",
              " 357,\n",
              " 952,\n",
              " 1213,\n",
              " 337,\n",
              " 2786,\n",
              " 3686,\n",
              " 4813,\n",
              " 1046,\n",
              " 3026,\n",
              " 3139,\n",
              " 3632,\n",
              " 3351,\n",
              " 3592,\n",
              " 2896,\n",
              " 2501,\n",
              " 161,\n",
              " 3577,\n",
              " 2609,\n",
              " 1352,\n",
              " 144,\n",
              " 519,\n",
              " 2786,\n",
              " 405,\n",
              " 1763,\n",
              " 1352,\n",
              " 2840,\n",
              " 3529,\n",
              " 1693,\n",
              " 3934,\n",
              " 1563,\n",
              " 1344,\n",
              " 1539,\n",
              " 1352,\n",
              " 126,\n",
              " 1754,\n",
              " 3277,\n",
              " 144,\n",
              " 1934,\n",
              " 3182,\n",
              " 1754,\n",
              " 1547,\n",
              " 1352,\n",
              " 2840,\n",
              " 1934,\n",
              " 2420,\n",
              " 1116,\n",
              " 1330,\n",
              " 3622,\n",
              " 3858,\n",
              " 4935,\n",
              " 3139,\n",
              " 3362,\n",
              " 1895,\n",
              " 1352,\n",
              " 1754,\n",
              " 4969,\n",
              " 2202,\n",
              " 2421,\n",
              " 952,\n",
              " 791,\n",
              " 2421,\n",
              " 1078,\n",
              " 4332,\n",
              " 74,\n",
              " 3740,\n",
              " 1578,\n",
              " 4500,\n",
              " 4490,\n",
              " 3739,\n",
              " 4225,\n",
              " 2880,\n",
              " 4401,\n",
              " 75,\n",
              " 4490,\n",
              " 4500,\n",
              " 2347,\n",
              " 2214,\n",
              " 2373,\n",
              " 1477,\n",
              " 1281,\n",
              " 1046,\n",
              " 616,\n",
              " 183]"
            ]
          },
          "metadata": {},
          "execution_count": 25
        }
      ],
      "source": [
        "onehot_repr=[one_hot(words,voc_size)for words in corpus] \n",
        "onehot_repr[1]"
      ]
    },
    {
      "cell_type": "markdown",
      "id": "472e9789",
      "metadata": {
        "papermill": {
          "duration": 0.031912,
          "end_time": "2021-10-09T06:22:20.364360",
          "exception": false,
          "start_time": "2021-10-09T06:22:20.332448",
          "status": "completed"
        },
        "tags": [],
        "id": "472e9789"
      },
      "source": [
        "****Embedding Representation****"
      ]
    },
    {
      "cell_type": "code",
      "execution_count": 26,
      "id": "d03fa1e4",
      "metadata": {
        "execution": {
          "iopub.execute_input": "2021-10-09T06:22:20.432571Z",
          "iopub.status.busy": "2021-10-09T06:22:20.431863Z",
          "iopub.status.idle": "2021-10-09T06:22:20.651338Z",
          "shell.execute_reply": "2021-10-09T06:22:20.652016Z",
          "shell.execute_reply.started": "2021-10-09T05:45:51.444594Z"
        },
        "papermill": {
          "duration": 0.255654,
          "end_time": "2021-10-09T06:22:20.652253",
          "exception": false,
          "start_time": "2021-10-09T06:22:20.396599",
          "status": "completed"
        },
        "tags": [],
        "id": "d03fa1e4",
        "colab": {
          "base_uri": "https://localhost:8080/"
        },
        "outputId": "b03bef54-7c4b-4e66-ad35-e2c031526935"
      },
      "outputs": [
        {
          "output_type": "stream",
          "name": "stdout",
          "text": [
            "[[4214 1002 2786 ...  820 2472  835]\n",
            " [1934 2420 1116 ... 1046  616  183]\n",
            " [   0    0    0 ... 1811 2250 4704]\n",
            " ...\n",
            " [3377 2632 4407 ... 1428 2143  157]\n",
            " [2457 1945 3080 ... 4952 2150 2840]\n",
            " [1944 4383 3188 ... 1347 3086 2002]]\n"
          ]
        }
      ],
      "source": [
        "sent_length=40\n",
        "embedded_docs=pad_sequences(onehot_repr,padding='pre',maxlen=sent_length)\n",
        "print(embedded_docs)"
      ]
    },
    {
      "cell_type": "code",
      "execution_count": 27,
      "id": "5259a011",
      "metadata": {
        "execution": {
          "iopub.execute_input": "2021-10-09T06:22:20.726348Z",
          "iopub.status.busy": "2021-10-09T06:22:20.725245Z",
          "iopub.status.idle": "2021-10-09T06:22:20.729385Z",
          "shell.execute_reply": "2021-10-09T06:22:20.729906Z",
          "shell.execute_reply.started": "2021-10-09T05:45:51.672424Z"
        },
        "papermill": {
          "duration": 0.043538,
          "end_time": "2021-10-09T06:22:20.730087",
          "exception": false,
          "start_time": "2021-10-09T06:22:20.686549",
          "status": "completed"
        },
        "tags": [],
        "id": "5259a011",
        "colab": {
          "base_uri": "https://localhost:8080/"
        },
        "outputId": "006a7f3c-f9f1-4366-b23c-94db1bdd612c"
      },
      "outputs": [
        {
          "output_type": "execute_result",
          "data": {
            "text/plain": [
              "array([4214, 1002, 2786, 1216, 4875, 4529, 1744, 1621, 4704, 2692, 4559,\n",
              "       4559, 4704,  482,  201, 3849, 4704, 2823, 4704,  828, 2301, 4401,\n",
              "       1286, 1700, 4500, 1917, 3577,  289, 2288,  532, 4031,  381,  363,\n",
              "       2668, 4112, 1716, 2425,  820, 2472,  835], dtype=int32)"
            ]
          },
          "metadata": {},
          "execution_count": 27
        }
      ],
      "source": [
        "embedded_docs[0]"
      ]
    },
    {
      "cell_type": "code",
      "execution_count": 39,
      "id": "ee29ed40",
      "metadata": {
        "execution": {
          "iopub.execute_input": "2021-10-09T06:22:20.800285Z",
          "iopub.status.busy": "2021-10-09T06:22:20.799597Z",
          "iopub.status.idle": "2021-10-09T06:22:21.511356Z",
          "shell.execute_reply": "2021-10-09T06:22:21.512112Z",
          "shell.execute_reply.started": "2021-10-09T05:45:51.680753Z"
        },
        "papermill": {
          "duration": 0.748961,
          "end_time": "2021-10-09T06:22:21.512332",
          "exception": false,
          "start_time": "2021-10-09T06:22:20.763371",
          "status": "completed"
        },
        "tags": [],
        "id": "ee29ed40",
        "colab": {
          "base_uri": "https://localhost:8080/"
        },
        "outputId": "6268cd1e-3f93-4589-f2f7-b5044353c909"
      },
      "outputs": [
        {
          "output_type": "stream",
          "name": "stdout",
          "text": [
            "Model: \"sequential_1\"\n",
            "_________________________________________________________________\n",
            " Layer (type)                Output Shape              Param #   \n",
            "=================================================================\n",
            " embedding_1 (Embedding)     (None, 40, 50)            250000    \n",
            "                                                                 \n",
            " bidirectional_1 (Bidirectio  (None, 200)              120800    \n",
            " nal)                                                            \n",
            "                                                                 \n",
            " dropout_1 (Dropout)         (None, 200)               0         \n",
            "                                                                 \n",
            " dense_1 (Dense)             (None, 1)                 201       \n",
            "                                                                 \n",
            "=================================================================\n",
            "Total params: 371,001\n",
            "Trainable params: 371,001\n",
            "Non-trainable params: 0\n",
            "_________________________________________________________________\n",
            "None\n"
          ]
        }
      ],
      "source": [
        "## Creating model\n",
        "embedding_vector_features=50\n",
        "model1=Sequential()\n",
        "model1.add(Embedding(voc_size,embedding_vector_features,input_length=sent_length))\n",
        "model1.add(Bidirectional(LSTM(100))) \n",
        "model1.add(Dropout(0.3))\n",
        "model1.add(Dense(1,activation='sigmoid'))\n",
        "model1.compile(loss='binary_crossentropy',optimizer='adam',metrics=['accuracy'])\n",
        "print(model1.summary())"
      ]
    },
    {
      "cell_type": "code",
      "execution_count": 29,
      "id": "de3890ad",
      "metadata": {
        "execution": {
          "iopub.execute_input": "2021-10-09T06:22:21.587372Z",
          "iopub.status.busy": "2021-10-09T06:22:21.586462Z",
          "iopub.status.idle": "2021-10-09T06:22:21.590239Z",
          "shell.execute_reply": "2021-10-09T06:22:21.589749Z",
          "shell.execute_reply.started": "2021-10-09T05:45:52.341584Z"
        },
        "papermill": {
          "duration": 0.04321,
          "end_time": "2021-10-09T06:22:21.590375",
          "exception": false,
          "start_time": "2021-10-09T06:22:21.547165",
          "status": "completed"
        },
        "tags": [],
        "id": "de3890ad",
        "colab": {
          "base_uri": "https://localhost:8080/"
        },
        "outputId": "dfabc435-76d1-4ed8-c16c-18f9cc3c22cc"
      },
      "outputs": [
        {
          "output_type": "execute_result",
          "data": {
            "text/plain": [
              "(15185, (15185,))"
            ]
          },
          "metadata": {},
          "execution_count": 29
        }
      ],
      "source": [
        "len(embedded_docs),y.shape"
      ]
    },
    {
      "cell_type": "code",
      "execution_count": 30,
      "id": "ad5cbbeb",
      "metadata": {
        "execution": {
          "iopub.execute_input": "2021-10-09T06:22:21.664167Z",
          "iopub.status.busy": "2021-10-09T06:22:21.663432Z",
          "iopub.status.idle": "2021-10-09T06:22:21.669869Z",
          "shell.execute_reply": "2021-10-09T06:22:21.669285Z",
          "shell.execute_reply.started": "2021-10-09T05:45:52.349516Z"
        },
        "papermill": {
          "duration": 0.045221,
          "end_time": "2021-10-09T06:22:21.670023",
          "exception": false,
          "start_time": "2021-10-09T06:22:21.624802",
          "status": "completed"
        },
        "tags": [],
        "id": "ad5cbbeb"
      },
      "outputs": [],
      "source": [
        "import numpy as np\n",
        "X_final=np.array(embedded_docs)\n",
        "y_final=np.array(y)"
      ]
    },
    {
      "cell_type": "code",
      "execution_count": 31,
      "id": "5cc19c0b",
      "metadata": {
        "execution": {
          "iopub.execute_input": "2021-10-09T06:22:21.744830Z",
          "iopub.status.busy": "2021-10-09T06:22:21.743827Z",
          "iopub.status.idle": "2021-10-09T06:22:21.749568Z",
          "shell.execute_reply": "2021-10-09T06:22:21.750109Z",
          "shell.execute_reply.started": "2021-10-09T05:45:52.363279Z"
        },
        "papermill": {
          "duration": 0.0445,
          "end_time": "2021-10-09T06:22:21.750277",
          "exception": false,
          "start_time": "2021-10-09T06:22:21.705777",
          "status": "completed"
        },
        "tags": [],
        "id": "5cc19c0b",
        "colab": {
          "base_uri": "https://localhost:8080/"
        },
        "outputId": "43131f9e-860d-4ccb-b566-d429974cd766"
      },
      "outputs": [
        {
          "output_type": "execute_result",
          "data": {
            "text/plain": [
              "array([1934, 2420, 1116, 1330, 3622, 3858, 4935, 3139, 3362, 1895, 1352,\n",
              "       1754, 4969, 2202, 2421,  952,  791, 2421, 1078, 4332,   74, 3740,\n",
              "       1578, 4500, 4490, 3739, 4225, 2880, 4401,   75, 4490, 4500, 2347,\n",
              "       2214, 2373, 1477, 1281, 1046,  616,  183], dtype=int32)"
            ]
          },
          "metadata": {},
          "execution_count": 31
        }
      ],
      "source": [
        "X_final[1]"
      ]
    },
    {
      "cell_type": "code",
      "execution_count": 32,
      "id": "2f8e95a9",
      "metadata": {
        "execution": {
          "iopub.execute_input": "2021-10-09T06:22:21.825293Z",
          "iopub.status.busy": "2021-10-09T06:22:21.824284Z",
          "iopub.status.idle": "2021-10-09T06:22:21.841087Z",
          "shell.execute_reply": "2021-10-09T06:22:21.840422Z",
          "shell.execute_reply.started": "2021-10-09T05:45:52.376010Z"
        },
        "papermill": {
          "duration": 0.056173,
          "end_time": "2021-10-09T06:22:21.841231",
          "exception": false,
          "start_time": "2021-10-09T06:22:21.785058",
          "status": "completed"
        },
        "tags": [],
        "id": "2f8e95a9"
      },
      "outputs": [],
      "source": [
        "from sklearn.model_selection import train_test_split\n",
        "X_train, X_test, y_train, y_test = train_test_split(X_final, y_final, test_size=0.25, random_state=32)\n",
        "from sklearn.model_selection import train_test_split\n",
        "X_train, X_test, y_train, y_test = train_test_split(X_final, y_final, test_size=0.25, random_state=32)"
      ]
    },
    {
      "cell_type": "code",
      "execution_count": 33,
      "id": "48400627",
      "metadata": {
        "execution": {
          "iopub.execute_input": "2021-10-09T06:22:21.918266Z",
          "iopub.status.busy": "2021-10-09T06:22:21.917560Z",
          "iopub.status.idle": "2021-10-09T06:25:13.816526Z",
          "shell.execute_reply": "2021-10-09T06:25:13.817136Z",
          "shell.execute_reply.started": "2021-10-09T05:45:52.394609Z"
        },
        "papermill": {
          "duration": 171.940018,
          "end_time": "2021-10-09T06:25:13.817532",
          "exception": false,
          "start_time": "2021-10-09T06:22:21.877514",
          "status": "completed"
        },
        "tags": [],
        "id": "48400627",
        "colab": {
          "base_uri": "https://localhost:8080/"
        },
        "outputId": "6bb79322-b696-47c3-aa69-f0544e9d0625"
      },
      "outputs": [
        {
          "output_type": "stream",
          "name": "stdout",
          "text": [
            "Epoch 1/12\n",
            "178/178 [==============================] - 11s 19ms/step - loss: 0.1765 - accuracy: 0.9593 - val_loss: 0.1490 - val_accuracy: 0.9581\n",
            "Epoch 2/12\n",
            "178/178 [==============================] - 2s 10ms/step - loss: 0.0817 - accuracy: 0.9766 - val_loss: 0.1334 - val_accuracy: 0.9605\n",
            "Epoch 3/12\n",
            "178/178 [==============================] - 2s 10ms/step - loss: 0.0570 - accuracy: 0.9838 - val_loss: 0.1375 - val_accuracy: 0.9650\n",
            "Epoch 4/12\n",
            "178/178 [==============================] - 2s 11ms/step - loss: 0.0398 - accuracy: 0.9886 - val_loss: 0.1430 - val_accuracy: 0.9673\n",
            "Epoch 5/12\n",
            "178/178 [==============================] - 2s 10ms/step - loss: 0.0257 - accuracy: 0.9929 - val_loss: 0.1537 - val_accuracy: 0.9658\n",
            "Epoch 6/12\n",
            "178/178 [==============================] - 2s 10ms/step - loss: 0.0172 - accuracy: 0.9949 - val_loss: 0.2077 - val_accuracy: 0.9579\n",
            "Epoch 7/12\n",
            "178/178 [==============================] - 2s 10ms/step - loss: 0.0120 - accuracy: 0.9968 - val_loss: 0.1995 - val_accuracy: 0.9608\n",
            "Epoch 8/12\n",
            "178/178 [==============================] - 2s 11ms/step - loss: 0.0093 - accuracy: 0.9975 - val_loss: 0.2216 - val_accuracy: 0.9618\n",
            "Epoch 9/12\n",
            "178/178 [==============================] - 2s 10ms/step - loss: 0.0075 - accuracy: 0.9977 - val_loss: 0.2193 - val_accuracy: 0.9623\n",
            "Epoch 10/12\n",
            "178/178 [==============================] - 2s 10ms/step - loss: 0.0067 - accuracy: 0.9980 - val_loss: 0.2253 - val_accuracy: 0.9600\n",
            "Epoch 11/12\n",
            "178/178 [==============================] - 2s 10ms/step - loss: 0.0079 - accuracy: 0.9976 - val_loss: 0.2441 - val_accuracy: 0.9637\n",
            "Epoch 12/12\n",
            "178/178 [==============================] - 2s 10ms/step - loss: 0.0050 - accuracy: 0.9986 - val_loss: 0.2289 - val_accuracy: 0.9589\n"
          ]
        },
        {
          "output_type": "execute_result",
          "data": {
            "text/plain": [
              "<keras.callbacks.History at 0x7f9ec4297100>"
            ]
          },
          "metadata": {},
          "execution_count": 33
        }
      ],
      "source": [
        "model1.fit(X_train,y_train,validation_data=(X_test,y_test),epochs=12,batch_size=64)"
      ]
    },
    {
      "cell_type": "markdown",
      "id": "5be23d5e",
      "metadata": {
        "papermill": {
          "duration": 0.68694,
          "end_time": "2021-10-09T06:25:15.194054",
          "exception": false,
          "start_time": "2021-10-09T06:25:14.507114",
          "status": "completed"
        },
        "tags": [],
        "id": "5be23d5e"
      },
      "source": [
        "**Model Performance and Accuracy**"
      ]
    },
    {
      "cell_type": "code",
      "execution_count": 34,
      "id": "9d8fd061",
      "metadata": {
        "execution": {
          "iopub.execute_input": "2021-10-09T06:25:16.669670Z",
          "iopub.status.busy": "2021-10-09T06:25:16.668805Z",
          "iopub.status.idle": "2021-10-09T06:25:18.803854Z",
          "shell.execute_reply": "2021-10-09T06:25:18.802881Z",
          "shell.execute_reply.started": "2021-10-09T05:48:33.648119Z"
        },
        "papermill": {
          "duration": 2.831251,
          "end_time": "2021-10-09T06:25:18.804015",
          "exception": false,
          "start_time": "2021-10-09T06:25:15.972764",
          "status": "completed"
        },
        "tags": [],
        "id": "9d8fd061",
        "colab": {
          "base_uri": "https://localhost:8080/"
        },
        "outputId": "31209572-ce2a-4464-af86-61d55752a26e"
      },
      "outputs": [
        {
          "output_type": "stream",
          "name": "stdout",
          "text": [
            "119/119 [==============================] - 1s 3ms/step\n"
          ]
        },
        {
          "output_type": "execute_result",
          "data": {
            "text/plain": [
              "array([[3523,   62],\n",
              "       [  94,  118]])"
            ]
          },
          "metadata": {},
          "execution_count": 34
        }
      ],
      "source": [
        "y_pred=(model1.predict(X_test) > 0.5).astype(\"int32\")\n",
        "from sklearn.metrics import confusion_matrix\n",
        "confusion_matrix(y_test,y_pred)"
      ]
    },
    {
      "cell_type": "code",
      "execution_count": 35,
      "id": "65673655",
      "metadata": {
        "execution": {
          "iopub.execute_input": "2021-10-09T06:25:20.221337Z",
          "iopub.status.busy": "2021-10-09T06:25:20.218297Z",
          "iopub.status.idle": "2021-10-09T06:25:20.225840Z",
          "shell.execute_reply": "2021-10-09T06:25:20.225159Z",
          "shell.execute_reply.started": "2021-10-09T05:48:35.553787Z"
        },
        "papermill": {
          "duration": 0.706418,
          "end_time": "2021-10-09T06:25:20.225989",
          "exception": false,
          "start_time": "2021-10-09T06:25:19.519571",
          "status": "completed"
        },
        "tags": [],
        "id": "65673655",
        "colab": {
          "base_uri": "https://localhost:8080/"
        },
        "outputId": "dd7252bf-a645-4080-cb49-f14242d638d2"
      },
      "outputs": [
        {
          "output_type": "execute_result",
          "data": {
            "text/plain": [
              "0.9589149328417171"
            ]
          },
          "metadata": {},
          "execution_count": 35
        }
      ],
      "source": [
        "from sklearn.metrics import accuracy_score\n",
        "accuracy_score(y_test,y_pred)"
      ]
    },
    {
      "cell_type": "code",
      "execution_count": 36,
      "id": "325ca54c",
      "metadata": {
        "execution": {
          "iopub.execute_input": "2021-10-09T06:25:21.612615Z",
          "iopub.status.busy": "2021-10-09T06:25:21.611552Z",
          "iopub.status.idle": "2021-10-09T06:25:21.624428Z",
          "shell.execute_reply": "2021-10-09T06:25:21.623897Z",
          "shell.execute_reply.started": "2021-10-09T05:48:35.562171Z"
        },
        "papermill": {
          "duration": 0.709133,
          "end_time": "2021-10-09T06:25:21.624598",
          "exception": false,
          "start_time": "2021-10-09T06:25:20.915465",
          "status": "completed"
        },
        "tags": [],
        "id": "325ca54c",
        "colab": {
          "base_uri": "https://localhost:8080/"
        },
        "outputId": "a8796b94-d45b-43d2-f62c-95083de888a6"
      },
      "outputs": [
        {
          "output_type": "stream",
          "name": "stdout",
          "text": [
            "              precision    recall  f1-score   support\n",
            "\n",
            "           0       0.97      0.98      0.98      3585\n",
            "           1       0.66      0.56      0.60       212\n",
            "\n",
            "    accuracy                           0.96      3797\n",
            "   macro avg       0.81      0.77      0.79      3797\n",
            "weighted avg       0.96      0.96      0.96      3797\n",
            "\n"
          ]
        }
      ],
      "source": [
        "from sklearn.metrics import classification_report\n",
        "print(classification_report(y_test,y_pred))"
      ]
    },
    {
      "cell_type": "code",
      "source": [
        "b=model1.save(\"model1.h5\")\n",
        "b"
      ],
      "metadata": {
        "id": "iZsNKRKAeBmZ"
      },
      "id": "iZsNKRKAeBmZ",
      "execution_count": 37,
      "outputs": []
    },
    {
      "cell_type": "code",
      "source": [
        "input_text=input(\"job post:\")\n",
        "voc_size=5000\n",
        "onehot_repr=[one_hot(input_text , voc_size)] \n",
        "sent_length=40\n",
        "embedded_docs=pad_sequences(onehot_repr,padding='pre',maxlen=sent_length)\n",
        "result=(model1.predict(embedded_docs) > 0.5).astype(\"int32\")\n",
        "result\n"
      ],
      "metadata": {
        "colab": {
          "base_uri": "https://localhost:8080/"
        },
        "id": "GcTosL0Ljld8",
        "outputId": "24496337-cd98-46dc-9644-a5af6d01007e"
      },
      "id": "GcTosL0Ljld8",
      "execution_count": 38,
      "outputs": [
        {
          "output_type": "stream",
          "name": "stdout",
          "text": [
            "job post:VisionX works with world-leading brands, Fortune 1000 as their innovation partner, providing product strategy and custom application development leveraging agile methodologies, technology accelerators, and creating Intellectual Property. VisionX has been listed in the Top 10 Most Innovative Companies of 2020 by Fast Company – ranked alongside the likes of Microsoft & Snap Inc. We develop cutting-edge software products integrating computer vision, 3D modeling, AR, VR, decision sciences, and IoT addressing a wide variety of use cases across different industries.\n",
            "1/1 [==============================] - 0s 23ms/step\n"
          ]
        },
        {
          "output_type": "execute_result",
          "data": {
            "text/plain": [
              "array([[0]], dtype=int32)"
            ]
          },
          "metadata": {},
          "execution_count": 38
        }
      ]
    }
  ],
  "metadata": {
    "kernelspec": {
      "display_name": "Python 3",
      "language": "python",
      "name": "python3"
    },
    "language_info": {
      "codemirror_mode": {
        "name": "ipython",
        "version": 3
      },
      "file_extension": ".py",
      "mimetype": "text/x-python",
      "name": "python",
      "nbconvert_exporter": "python",
      "pygments_lexer": "ipython3",
      "version": "3.7.10"
    },
    "papermill": {
      "default_parameters": {},
      "duration": 611.067978,
      "end_time": "2021-10-09T06:25:25.811420",
      "environment_variables": {},
      "exception": null,
      "input_path": "__notebook__.ipynb",
      "output_path": "__notebook__.ipynb",
      "parameters": {},
      "start_time": "2021-10-09T06:15:14.743442",
      "version": "2.3.3"
    },
    "colab": {
      "provenance": []
    },
    "gpuClass": "standard",
    "accelerator": "GPU"
  },
  "nbformat": 4,
  "nbformat_minor": 5
}